{
 "cells": [
  {
   "cell_type": "markdown",
   "id": "0149d231",
   "metadata": {},
   "source": [
    "## Ödev - 1. Hafta"
   ]
  },
  {
   "cell_type": "code",
   "execution_count": 1,
   "id": "88c6533b",
   "metadata": {},
   "outputs": [
    {
     "name": "stdout",
     "output_type": "stream",
     "text": [
      "30\n"
     ]
    }
   ],
   "source": [
    "#1\n",
    "cocuklar = 5\n",
    "yıl = 3\n",
    "baba = ((cocuklar + 2*yıl) * 3) - yıl\n",
    "print(baba) "
   ]
  },
  {
   "cell_type": "code",
   "execution_count": 2,
   "id": "78dcd44c",
   "metadata": {},
   "outputs": [
    {
     "name": "stdout",
     "output_type": "stream",
     "text": [
      "VERİ BİLİMi, verilerden değer elde etmek için istatistik, bilimsel yöntemler, yapay zeka (ai) ve veri analizi dahil olmak üzere birçok alanı bir araya getirir. VERİ BİLİMiyle uğraşan kişilere VERİ BİLİMci denir. bu kişiler web, akıllı telefonlar, müşteriler, sensörler ve diğer kaynaklardan toplanan verileri analiz etmek ve bunlardan eyleme dönüştürülebilir içgörüler üretmek amacıyla bir dizi beceriyi bir araya getirir.\n"
     ]
    }
   ],
   "source": [
    "#2\n",
    "text = \"Veri bilimi, verilerden değer elde etmek için istatistik, bilimsel yöntemler, yapay zeka (AI) ve veri analizi dahil olmak üzere birçok alanı bir araya getirir. Veri Bilimiyle uğraşan kişilere veri bilimci denir. Bu kişiler web, akıllı telefonlar, müşteriler, sensörler ve diğer kaynaklardan toplanan verileri analiz etmek ve bunlardan eyleme dönüştürülebilir içgörüler üretmek amacıyla bir dizi beceriyi bir araya getirir.\"\n",
    "text = text.lower().replace(\"veri bilim\", \"VERİ BİLİM\")\n",
    "print(text)"
   ]
  },
  {
   "cell_type": "code",
   "execution_count": 3,
   "id": "33113989",
   "metadata": {},
   "outputs": [
    {
     "name": "stdout",
     "output_type": "stream",
     "text": [
      "Bilalcan USTABAŞ İstanbul 3.23\n"
     ]
    }
   ],
   "source": [
    "#3\n",
    "print(\"Bilalcan USTABAŞ İstanbul 3.23\")"
   ]
  },
  {
   "cell_type": "code",
   "execution_count": 4,
   "id": "ac78e203",
   "metadata": {},
   "outputs": [
    {
     "name": "stdout",
     "output_type": "stream",
     "text": [
      "Veri bilimi\n",
      "\n",
      "Veri bilimi\n",
      "\n",
      "Veri bilimi\n",
      "\n",
      "Veri bilimi\n",
      "\n",
      "Veri bilimi\n",
      "\n",
      "Veri bilimi\n",
      "\n",
      "Veri bilimi\n",
      "\n",
      "Veri bilimi\n",
      "\n",
      "Veri bilimi\n",
      "\n",
      "Veri bilimi\n",
      "\n",
      "Veri bilimi\n",
      "\n",
      "alanlardan biridir\n",
      "\n",
      "alanlardan biridir\n",
      "\n",
      "alanlardan biridir\n",
      "\n",
      "alanlardan biridir\n",
      "\n",
      "alanlardan biridir\n",
      "\n",
      "alanlardan biridir\n",
      "\n",
      "alanlardan biridir\n",
      "\n",
      "alanlardan biridir\n",
      "\n",
      "alanlardan biridir\n",
      "\n",
      "alanlardan biridir\n",
      "\n",
      "alanlardan biridir\n",
      "\n",
      "alanlardan biridir\n",
      "\n",
      "alanlardan biridir\n",
      "\n",
      "alanlardan biridir\n",
      "\n",
      "alanlardan biridir\n",
      "\n",
      "alanlardan biridir\n",
      "\n",
      "alanlardan biridir\n",
      "\n",
      "alanlardan biridir\n",
      "\n"
     ]
    }
   ],
   "source": [
    "#4\n",
    "text = \"Veri bilimi günümüzün en heyecan verici alanlardan biridir.\"\n",
    "word_1 = text[:11]\n",
    "for i in range(len(word_1)):\n",
    "    print(word_1 + \"\\n\")\n",
    "word_2 = text[40:58]  \n",
    "for i in range(len(word_2)):\n",
    "    print(word_2 + \"\\n\")"
   ]
  },
  {
   "cell_type": "code",
   "execution_count": 5,
   "id": "0583c585",
   "metadata": {},
   "outputs": [
    {
     "name": "stdout",
     "output_type": "stream",
     "text": [
      "veri bilimi is lower: True\n",
      "VERI BILIMI is upper: True\n"
     ]
    }
   ],
   "source": [
    "#5\n",
    "x = \"Veri Bilimi\"\n",
    "x = x.lower()\n",
    "print(x , \"is lower: \" + str(x.islower()))\n",
    "x = x.upper()\n",
    "print(x , \"is upper: \" + str(x.isupper()))\n"
   ]
  },
  {
   "cell_type": "code",
   "execution_count": 6,
   "id": "4007ccb1",
   "metadata": {},
   "outputs": [],
   "source": [
    "#6\n",
    "listem = [\"bilalcan\", \"Ustabaş\", 22, \"Istanbul\", 3.23]"
   ]
  },
  {
   "cell_type": "code",
   "execution_count": 7,
   "id": "dce97299",
   "metadata": {},
   "outputs": [
    {
     "name": "stdout",
     "output_type": "stream",
     "text": [
      "[22, 'Istanbul', 3.23]\n"
     ]
    }
   ],
   "source": [
    "#7\n",
    "listem2 =  listem[2:]\n",
    "print(listem2)\n",
    "    "
   ]
  },
  {
   "cell_type": "code",
   "execution_count": 8,
   "id": "78559e04",
   "metadata": {},
   "outputs": [
    {
     "name": "stdout",
     "output_type": "stream",
     "text": [
      "<class 'int'>\n",
      "<class 'str'>\n",
      "<class 'float'>\n"
     ]
    }
   ],
   "source": [
    "#8\n",
    "for i in listem2:\n",
    "    print(type(i))"
   ]
  },
  {
   "cell_type": "code",
   "execution_count": 9,
   "id": "2de1bd5f",
   "metadata": {},
   "outputs": [
    {
     "name": "stdout",
     "output_type": "stream",
     "text": [
      "[22, 'Istanbul', 3.23, ['Ali', 90, 'Mehmet']]\n"
     ]
    }
   ],
   "source": [
    "#9\n",
    "eklenecek_liste = [\"Ali\", 90, \"Mehmet\"]\n",
    "listem2.append(eklenecek_liste)\n",
    "print(listem2)"
   ]
  },
  {
   "cell_type": "code",
   "execution_count": 10,
   "id": "c5373279",
   "metadata": {},
   "outputs": [
    {
     "name": "stdout",
     "output_type": "stream",
     "text": [
      "['Ali', 90]\n"
     ]
    }
   ],
   "source": [
    "#10\n",
    "listem3 = listem2[3][:2]\n",
    "print(listem3)"
   ]
  },
  {
   "cell_type": "code",
   "execution_count": 11,
   "id": "afd02b69",
   "metadata": {},
   "outputs": [
    {
     "name": "stdout",
     "output_type": "stream",
     "text": [
      "[22, 'Istanbul', 3.23, ['Ali', 90, 'Mehmet'], 'Ali', 90]\n"
     ]
    }
   ],
   "source": [
    "#11\n",
    "listem2.extend(listem3)\n",
    "print(listem2)"
   ]
  },
  {
   "cell_type": "code",
   "execution_count": 12,
   "id": "d255b031",
   "metadata": {},
   "outputs": [
    {
     "name": "stdout",
     "output_type": "stream",
     "text": [
      "[22, 'Istanbul', 3.23, ['Ali', 90, 'Mehmet'], 'Ali']\n"
     ]
    }
   ],
   "source": [
    "#12\n",
    "del listem2[-1]\n",
    "print(listem2)"
   ]
  },
  {
   "cell_type": "code",
   "execution_count": 13,
   "id": "367aa583",
   "metadata": {},
   "outputs": [
    {
     "name": "stdout",
     "output_type": "stream",
     "text": [
      "[10, 9, 8, 7, 6, 5, 4, 3, 2, 1]\n"
     ]
    }
   ],
   "source": [
    "#13\n",
    "yeni_liste = []\n",
    "for n in range(10,0,-1): yeni_liste.append(n)\n",
    "print(yeni_liste)"
   ]
  },
  {
   "cell_type": "code",
   "execution_count": 14,
   "id": "4e5af6cf",
   "metadata": {},
   "outputs": [
    {
     "name": "stdout",
     "output_type": "stream",
     "text": [
      "7 rakamının indexi:3\n",
      "2 rakamının indexi:8\n"
     ]
    }
   ],
   "source": [
    "#14\n",
    "print(\"7 rakamının indexi:\" + str(yeni_liste.index(7)))  \n",
    "print(\"2 rakamının indexi:\" + str(yeni_liste.index(2))) "
   ]
  },
  {
   "cell_type": "code",
   "execution_count": 15,
   "id": "6477526e",
   "metadata": {},
   "outputs": [
    {
     "name": "stdout",
     "output_type": "stream",
     "text": [
      "(22, 'Istanbul', 3.23, ['Ali', 90, 'Mehmet'], 'Ali')\n"
     ]
    }
   ],
   "source": [
    "#15\n",
    "tuple1 = tuple(listem2)\n",
    "print(tuple1)"
   ]
  },
  {
   "cell_type": "code",
   "execution_count": 16,
   "id": "017f932d",
   "metadata": {},
   "outputs": [
    {
     "ename": "TypeError",
     "evalue": "'tuple' object does not support item assignment",
     "output_type": "error",
     "traceback": [
      "\u001b[1;31m---------------------------------------------------------------------------\u001b[0m",
      "\u001b[1;31mTypeError\u001b[0m                                 Traceback (most recent call last)",
      "Input \u001b[1;32mIn [16]\u001b[0m, in \u001b[0;36m<cell line: 3>\u001b[1;34m()\u001b[0m\n\u001b[0;32m      1\u001b[0m \u001b[38;5;66;03m#16\u001b[39;00m\n\u001b[0;32m      2\u001b[0m \u001b[38;5;66;03m#tuples are not mutable!!\u001b[39;00m\n\u001b[1;32m----> 3\u001b[0m tuple1[\u001b[38;5;241m-\u001b[39m\u001b[38;5;241m1\u001b[39m] \u001b[38;5;241m=\u001b[39m \u001b[38;5;124m\"\u001b[39m\u001b[38;5;124mVeli\u001b[39m\u001b[38;5;124m\"\u001b[39m\n",
      "\u001b[1;31mTypeError\u001b[0m: 'tuple' object does not support item assignment"
     ]
    }
   ],
   "source": [
    "#16\n",
    "#tuples are not mutable!!\n",
    "tuple1[-1] = \"Veli\""
   ]
  },
  {
   "cell_type": "code",
   "execution_count": 18,
   "id": "83f5de72",
   "metadata": {},
   "outputs": [
    {
     "name": "stdout",
     "output_type": "stream",
     "text": [
      "(10, 9, 8, 7, 6, 5, 4, 3, 2, 1)\n"
     ]
    }
   ],
   "source": [
    "#17\n",
    "yeni_tuple = ()\n",
    "for n in range(10,0,-1): yeni_tuple = yeni_tuple + (n,)\n",
    "print(yeni_tuple)"
   ]
  },
  {
   "cell_type": "code",
   "execution_count": 19,
   "id": "1e0087e0",
   "metadata": {},
   "outputs": [
    {
     "name": "stdout",
     "output_type": "stream",
     "text": [
      "7 rakamının indexi:3\n",
      "2 rakamının indexi:8\n"
     ]
    }
   ],
   "source": [
    "#18\n",
    "print(\"7 rakamının indexi:\" + str(yeni_tuple.index(7)))  \n",
    "print(\"2 rakamının indexi:\" + str(yeni_tuple.index(2))) "
   ]
  },
  {
   "cell_type": "code",
   "execution_count": 20,
   "id": "62c4053a",
   "metadata": {},
   "outputs": [
    {
     "name": "stdout",
     "output_type": "stream",
     "text": [
      "{10, 20}\n"
     ]
    }
   ],
   "source": [
    "#19\n",
    "dictionary = {\"REG\" : [\"RMSE\",10],\n",
    "              \"LOJ\" : [\"MSE\", 20],\n",
    "              \"CART\" : [\"SSE\",30]}\n",
    "\n",
    "my_set = {dictionary[\"REG\"][1],dictionary[\"LOJ\"][1]}\n",
    "print(my_set)"
   ]
  },
  {
   "cell_type": "code",
   "execution_count": 21,
   "id": "99546f96",
   "metadata": {},
   "outputs": [
    {
     "name": "stdout",
     "output_type": "stream",
     "text": [
      "{'REG': ['RMSE', 10], 'LOJ': ['MSE', 20], 'CART': ['SSE', 30]}\n"
     ]
    }
   ],
   "source": [
    "#20\n",
    "dictionary[\"CART\"] = [\"SSE\", 30]\n",
    "print(dictionary)"
   ]
  },
  {
   "cell_type": "code",
   "execution_count": 22,
   "id": "3a8c245e",
   "metadata": {},
   "outputs": [
    {
     "name": "stdout",
     "output_type": "stream",
     "text": [
      "{'REG': ['RMSE', 10], 'LOJ': ['MSE', 20], 'CART': ['SSE', 30], 'RF': ['SSE', 50]}\n"
     ]
    }
   ],
   "source": [
    "#21\n",
    "dictionary[\"RF\"] = [\"SSE\", 50]\n",
    "print(dictionary)"
   ]
  },
  {
   "cell_type": "code",
   "execution_count": 23,
   "id": "fc1f7cc0",
   "metadata": {},
   "outputs": [
    {
     "name": "stdout",
     "output_type": "stream",
     "text": [
      "{'Ayşe', 10, 'Ali', 20, 'Mehmet'}\n",
      "set1'deki eleman satısı: 5\n"
     ]
    }
   ],
   "source": [
    "#22\n",
    "liste1 = [10, 20, 10, \"Ali\", 10, \"Ali\", \"Mehmet\", 20, \"Ayşe\" ]\n",
    "set1 = set(liste1)\n",
    "print(set1)\n",
    "print(\"set1'deki eleman satısı:\" , len(set1))"
   ]
  },
  {
   "cell_type": "code",
   "execution_count": 24,
   "id": "b9762a2e",
   "metadata": {},
   "outputs": [
    {
     "ename": "TypeError",
     "evalue": "'set' object is not subscriptable",
     "output_type": "error",
     "traceback": [
      "\u001b[1;31m---------------------------------------------------------------------------\u001b[0m",
      "\u001b[1;31mTypeError\u001b[0m                                 Traceback (most recent call last)",
      "Input \u001b[1;32mIn [24]\u001b[0m, in \u001b[0;36m<cell line: 2>\u001b[1;34m()\u001b[0m\n\u001b[0;32m      1\u001b[0m \u001b[38;5;66;03m#23\u001b[39;00m\n\u001b[1;32m----> 2\u001b[0m \u001b[43mset1\u001b[49m\u001b[43m[\u001b[49m\u001b[38;5;241;43m5\u001b[39;49m\u001b[43m]\u001b[49m\n\u001b[0;32m      3\u001b[0m set1[\u001b[38;5;241m7\u001b[39m]\n",
      "\u001b[1;31mTypeError\u001b[0m: 'set' object is not subscriptable"
     ]
    }
   ],
   "source": [
    "#23\n",
    "set1[5]\n",
    "set1[7]\n",
    "#setler indexli değildir"
   ]
  },
  {
   "cell_type": "code",
   "execution_count": 25,
   "id": "e3aa35bc",
   "metadata": {},
   "outputs": [
    {
     "name": "stdout",
     "output_type": "stream",
     "text": [
      "{'Ayşe', 'Veli', '40', 20, 'Mehmet'}\n"
     ]
    }
   ],
   "source": [
    "#24\n",
    "set1.remove(\"Ali\")\n",
    "set1.add(\"Veli\")\n",
    "set1.remove(10)\n",
    "set1.add(\"40\")\n",
    "\n",
    "print(set1)"
   ]
  },
  {
   "cell_type": "code",
   "execution_count": 26,
   "id": "2e4a60bf",
   "metadata": {},
   "outputs": [
    {
     "data": {
      "text/plain": [
       "{5}"
      ]
     },
     "execution_count": 26,
     "metadata": {},
     "output_type": "execute_result"
    }
   ],
   "source": [
    "#25.1\n",
    "set1 = set([1, 3, 5])\n",
    "set2 = set([1, 2, 3])\n",
    "\n",
    "set1.difference(set2)"
   ]
  },
  {
   "cell_type": "code",
   "execution_count": 27,
   "id": "03a0b2e7",
   "metadata": {},
   "outputs": [
    {
     "data": {
      "text/plain": [
       "{2}"
      ]
     },
     "execution_count": 27,
     "metadata": {},
     "output_type": "execute_result"
    }
   ],
   "source": [
    "#25.2\n",
    "set2.difference(set1)"
   ]
  },
  {
   "cell_type": "code",
   "execution_count": 28,
   "id": "64d8162c",
   "metadata": {},
   "outputs": [
    {
     "data": {
      "text/plain": [
       "{2, 5}"
      ]
     },
     "execution_count": 28,
     "metadata": {},
     "output_type": "execute_result"
    }
   ],
   "source": [
    "#25.3\n",
    "set1.symmetric_difference(set2)"
   ]
  },
  {
   "cell_type": "code",
   "execution_count": 29,
   "id": "6e976c18",
   "metadata": {},
   "outputs": [
    {
     "data": {
      "text/plain": [
       "{1, 3}"
      ]
     },
     "execution_count": 29,
     "metadata": {},
     "output_type": "execute_result"
    }
   ],
   "source": [
    "#25.4\n",
    "set1.intersection(set2)"
   ]
  },
  {
   "cell_type": "code",
   "execution_count": 30,
   "id": "b29443c6",
   "metadata": {},
   "outputs": [
    {
     "data": {
      "text/plain": [
       "{1, 2, 3, 5}"
      ]
     },
     "execution_count": 30,
     "metadata": {},
     "output_type": "execute_result"
    }
   ],
   "source": [
    "#25.5\n",
    "set1.union(set2)"
   ]
  },
  {
   "cell_type": "code",
   "execution_count": 31,
   "id": "085890db",
   "metadata": {},
   "outputs": [
    {
     "data": {
      "text/plain": [
       "False"
      ]
     },
     "execution_count": 31,
     "metadata": {},
     "output_type": "execute_result"
    }
   ],
   "source": [
    "#25.6\n",
    "set1.isdisjoint(set2)"
   ]
  },
  {
   "cell_type": "code",
   "execution_count": 32,
   "id": "e48d083a",
   "metadata": {},
   "outputs": [
    {
     "data": {
      "text/plain": [
       "False"
      ]
     },
     "execution_count": 32,
     "metadata": {},
     "output_type": "execute_result"
    }
   ],
   "source": [
    "#25.7\n",
    "set1.issubset(set2)"
   ]
  },
  {
   "cell_type": "code",
   "execution_count": 33,
   "id": "e18d0562",
   "metadata": {},
   "outputs": [
    {
     "data": {
      "text/plain": [
       "False"
      ]
     },
     "execution_count": 33,
     "metadata": {},
     "output_type": "execute_result"
    }
   ],
   "source": [
    "#25.8\n",
    "set1.issuperset(set2)"
   ]
  },
  {
   "cell_type": "code",
   "execution_count": 34,
   "id": "378b8b2a",
   "metadata": {},
   "outputs": [
    {
     "name": "stdout",
     "output_type": "stream",
     "text": [
      "[1200.0, 2400.0, 3600.0, 4800.0, 6000.0]\n"
     ]
    }
   ],
   "source": [
    "#26\n",
    "def zam(maaslar):\n",
    "    for i in range(len(maaslar)): maaslar[i] *= 1.2\n",
    "    return maaslar\n",
    "\n",
    "maaslar = [1000,2000,3000,4000,5000]\n",
    "zamlı_maaslar = zam(maaslar)\n",
    "print(zamlı_maaslar)"
   ]
  },
  {
   "cell_type": "code",
   "execution_count": 35,
   "id": "0140d564",
   "metadata": {},
   "outputs": [
    {
     "name": "stdout",
     "output_type": "stream",
     "text": [
      "[1150.0, 2350.0, 3500.0, 4700.0, 5900.0]\n"
     ]
    }
   ],
   "source": [
    "#27\n",
    "def vergi(maaslar):\n",
    "    for i in range(len(maaslar)):\n",
    "        if maaslar[i] < 2500: maaslar[i] -= 50\n",
    "        else: maaslar[i] -= 100\n",
    "    return maaslar\n",
    "\n",
    "net_maas = vergi(zamlı_maaslar)\n",
    "print(net_maas)"
   ]
  },
  {
   "cell_type": "code",
   "execution_count": 36,
   "id": "d7e96e46",
   "metadata": {},
   "outputs": [
    {
     "name": "stdout",
     "output_type": "stream",
     "text": [
      "(['John', 'Mark'], ['Venessa', 'Mariam'])\n"
     ]
    }
   ],
   "source": [
    "#28 \n",
    "def group(students):\n",
    "    list1 = []\n",
    "    list2 = []\n",
    "    for i in range(len(students)):\n",
    "        if i < len(students)/2: list1.append(students[i])\n",
    "        else: list2.append(students[i])\n",
    "    return list1,list2\n",
    "    \n",
    "students = [\"John\", \"Mark\", \"Venessa\", \"Mariam\"]\n",
    "new_students = group(students)\n",
    "print(new_students)\n"
   ]
  },
  {
   "cell_type": "code",
   "execution_count": 37,
   "id": "e02e1c00",
   "metadata": {},
   "outputs": [
    {
     "name": "stdout",
     "output_type": "stream",
     "text": [
      "Hi mY NaMe iS JoHn aNd i aM LeArNiNg pYtHoN\n"
     ]
    }
   ],
   "source": [
    "#29\n",
    "def upperLower(string):\n",
    "    string = list(string)\n",
    "    for i in range(len(string)):\n",
    "        if i % 2 == 0: string[i] = string[i].upper()\n",
    "        else: string[i] = string[i].lower()\n",
    "    string = \"\".join(string)\n",
    "    return string\n",
    "\n",
    "text = \"hi my name is john and i am learning python\"\n",
    "text = upperLower(text)\n",
    "print(text)"
   ]
  },
  {
   "cell_type": "code",
   "execution_count": 38,
   "id": "1a3650c2",
   "metadata": {},
   "outputs": [
    {
     "name": "stdout",
     "output_type": "stream",
     "text": [
      "Hi mY NaMe iS JoHn aNd i aM LeArNiNg pYtHoN\n"
     ]
    }
   ],
   "source": [
    "#30\n",
    "def upperLower(string):\n",
    "    temp = \"\" \n",
    "    for i, string in enumerate(string):\n",
    "        if i % 2 == 0: temp += string.upper()\n",
    "        else: temp += string.lower()       \n",
    "    return temp\n",
    "text = \"hi my name is john and i am learning python\"\n",
    "result = upperLower(text)\n",
    "print(result)"
   ]
  },
  {
   "cell_type": "code",
   "execution_count": 39,
   "id": "4228463d",
   "metadata": {},
   "outputs": [
    {
     "name": "stdout",
     "output_type": "stream",
     "text": [
      "Lütfen isminizi giriniz: Bilalcan\n",
      "Lütfen yaşınızı giriniz: 22\n",
      "Merhaba benim ismim Bilalcan,\n",
      "22 yaşındayım.\n"
     ]
    }
   ],
   "source": [
    "#31\n",
    "name = input(\"Lütfen isminizi giriniz: \")\n",
    "age = input(\"Lütfen yaşınızı giriniz: \")\n",
    "\n",
    "print(\"Merhaba benim ismim \" + name + \",\\n\" + age + \" yaşındayım.\")"
   ]
  },
  {
   "cell_type": "code",
   "execution_count": null,
   "id": "becd183c",
   "metadata": {},
   "outputs": [],
   "source": []
  }
 ],
 "metadata": {
  "kernelspec": {
   "display_name": "Python 3 (ipykernel)",
   "language": "python",
   "name": "python3"
  },
  "language_info": {
   "codemirror_mode": {
    "name": "ipython",
    "version": 3
   },
   "file_extension": ".py",
   "mimetype": "text/x-python",
   "name": "python",
   "nbconvert_exporter": "python",
   "pygments_lexer": "ipython3",
   "version": "3.9.12"
  }
 },
 "nbformat": 4,
 "nbformat_minor": 5
}
